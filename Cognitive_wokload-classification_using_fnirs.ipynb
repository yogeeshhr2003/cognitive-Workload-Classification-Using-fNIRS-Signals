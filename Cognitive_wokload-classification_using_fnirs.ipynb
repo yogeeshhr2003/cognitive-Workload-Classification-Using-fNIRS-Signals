{
 "cells": [
  {
   "cell_type": "markdown",
   "id": "7151f5b6",
   "metadata": {},
   "source": [
    "Cognitive Workload Classification Using Fnirs"
   ]
  },
  {
   "cell_type": "code",
   "execution_count": null,
   "id": "be01f2cc",
   "metadata": {},
   "outputs": [],
   "source": [
    "\n",
    "import pandas as pd\n",
    "import numpy as np\n",
    "from sklearn.model_selection import train_test_split, cross_val_score, StratifiedKFold\n",
    "from sklearn.ensemble import RandomForestClassifier\n",
    "from sklearn.metrics import accuracy_score, confusion_matrix, classification_report\n",
    "import matplotlib.pyplot as plt\n",
    "import seaborn as sns\n"
   ]
  },
  {
   "cell_type": "code",
   "execution_count": null,
   "id": "7267c167",
   "metadata": {},
   "outputs": [
    {
     "name": "stdout",
     "output_type": "stream",
     "text": [
      "✅ Loaded file with shape: (86435, 31)\n"
     ]
    },
    {
     "data": {
      "text/html": [
       "<div>\n",
       "<style scoped>\n",
       "    .dataframe tbody tr th:only-of-type {\n",
       "        vertical-align: middle;\n",
       "    }\n",
       "\n",
       "    .dataframe tbody tr th {\n",
       "        vertical-align: top;\n",
       "    }\n",
       "\n",
       "    .dataframe thead th {\n",
       "        text-align: right;\n",
       "    }\n",
       "</style>\n",
       "<table border=\"1\" class=\"dataframe\">\n",
       "  <thead>\n",
       "    <tr style=\"text-align: right;\">\n",
       "      <th></th>\n",
       "      <th>fNIRS_0</th>\n",
       "      <th>fNIRS_1</th>\n",
       "      <th>fNIRS_2</th>\n",
       "      <th>fNIRS_3</th>\n",
       "      <th>fNIRS_4</th>\n",
       "      <th>fNIRS_5</th>\n",
       "      <th>fNIRS_6</th>\n",
       "      <th>fNIRS_7</th>\n",
       "      <th>fNIRS_8</th>\n",
       "      <th>fNIRS_9</th>\n",
       "      <th>...</th>\n",
       "      <th>Blink_Rate</th>\n",
       "      <th>Fixation_Duration</th>\n",
       "      <th>Saccade_Duration</th>\n",
       "      <th>Speed</th>\n",
       "      <th>Angular_Vel_X</th>\n",
       "      <th>Angular_Vel_Y</th>\n",
       "      <th>Angular_Vel_Z</th>\n",
       "      <th>Steering_Angle</th>\n",
       "      <th>Braking_Response</th>\n",
       "      <th>Cognitive_Load</th>\n",
       "    </tr>\n",
       "  </thead>\n",
       "  <tbody>\n",
       "    <tr>\n",
       "      <th>0</th>\n",
       "      <td>1.723049</td>\n",
       "      <td>1.133654</td>\n",
       "      <td>1.440549</td>\n",
       "      <td>1.808140</td>\n",
       "      <td>3.065847</td>\n",
       "      <td>3.231860</td>\n",
       "      <td>3.240772</td>\n",
       "      <td>4.445016</td>\n",
       "      <td>2.799002</td>\n",
       "      <td>1.126496</td>\n",
       "      <td>...</td>\n",
       "      <td>5.570585</td>\n",
       "      <td>2.411413</td>\n",
       "      <td>0.201666</td>\n",
       "      <td>72.592151</td>\n",
       "      <td>1.703854</td>\n",
       "      <td>4.967621</td>\n",
       "      <td>15.649681</td>\n",
       "      <td>0.860280</td>\n",
       "      <td>0.182072</td>\n",
       "      <td>1</td>\n",
       "    </tr>\n",
       "    <tr>\n",
       "      <th>1</th>\n",
       "      <td>4.288649</td>\n",
       "      <td>4.501980</td>\n",
       "      <td>2.133552</td>\n",
       "      <td>4.015260</td>\n",
       "      <td>2.367302</td>\n",
       "      <td>4.088112</td>\n",
       "      <td>0.856212</td>\n",
       "      <td>3.471955</td>\n",
       "      <td>0.652051</td>\n",
       "      <td>4.517964</td>\n",
       "      <td>...</td>\n",
       "      <td>5.547927</td>\n",
       "      <td>1.464837</td>\n",
       "      <td>1.746279</td>\n",
       "      <td>32.215241</td>\n",
       "      <td>2.617186</td>\n",
       "      <td>1.936721</td>\n",
       "      <td>12.395004</td>\n",
       "      <td>0.082384</td>\n",
       "      <td>0.638045</td>\n",
       "      <td>2</td>\n",
       "    </tr>\n",
       "    <tr>\n",
       "      <th>2</th>\n",
       "      <td>1.863490</td>\n",
       "      <td>0.401045</td>\n",
       "      <td>3.207467</td>\n",
       "      <td>2.170156</td>\n",
       "      <td>1.017955</td>\n",
       "      <td>3.575974</td>\n",
       "      <td>0.563180</td>\n",
       "      <td>1.229505</td>\n",
       "      <td>4.895343</td>\n",
       "      <td>1.304718</td>\n",
       "      <td>...</td>\n",
       "      <td>5.708054</td>\n",
       "      <td>0.974601</td>\n",
       "      <td>0.483550</td>\n",
       "      <td>83.142943</td>\n",
       "      <td>3.519396</td>\n",
       "      <td>3.881443</td>\n",
       "      <td>27.181039</td>\n",
       "      <td>0.097419</td>\n",
       "      <td>0.764260</td>\n",
       "      <td>0</td>\n",
       "    </tr>\n",
       "    <tr>\n",
       "      <th>3</th>\n",
       "      <td>3.038034</td>\n",
       "      <td>2.023996</td>\n",
       "      <td>2.536634</td>\n",
       "      <td>4.576392</td>\n",
       "      <td>1.770003</td>\n",
       "      <td>4.160529</td>\n",
       "      <td>1.401901</td>\n",
       "      <td>3.501782</td>\n",
       "      <td>2.442503</td>\n",
       "      <td>3.015108</td>\n",
       "      <td>...</td>\n",
       "      <td>8.798817</td>\n",
       "      <td>2.933695</td>\n",
       "      <td>0.337788</td>\n",
       "      <td>73.130323</td>\n",
       "      <td>1.801559</td>\n",
       "      <td>1.763906</td>\n",
       "      <td>17.972029</td>\n",
       "      <td>0.332764</td>\n",
       "      <td>0.876864</td>\n",
       "      <td>0</td>\n",
       "    </tr>\n",
       "    <tr>\n",
       "      <th>4</th>\n",
       "      <td>0.668047</td>\n",
       "      <td>2.364708</td>\n",
       "      <td>1.928376</td>\n",
       "      <td>2.645097</td>\n",
       "      <td>2.435270</td>\n",
       "      <td>3.448184</td>\n",
       "      <td>4.043443</td>\n",
       "      <td>3.304836</td>\n",
       "      <td>4.681500</td>\n",
       "      <td>1.215616</td>\n",
       "      <td>...</td>\n",
       "      <td>6.960582</td>\n",
       "      <td>1.242775</td>\n",
       "      <td>0.380704</td>\n",
       "      <td>81.780302</td>\n",
       "      <td>0.547398</td>\n",
       "      <td>0.379227</td>\n",
       "      <td>5.317738</td>\n",
       "      <td>0.375171</td>\n",
       "      <td>0.655278</td>\n",
       "      <td>0</td>\n",
       "    </tr>\n",
       "  </tbody>\n",
       "</table>\n",
       "<p>5 rows × 31 columns</p>\n",
       "</div>"
      ],
      "text/plain": [
       "    fNIRS_0   fNIRS_1   fNIRS_2   fNIRS_3   fNIRS_4   fNIRS_5   fNIRS_6  \\\n",
       "0  1.723049  1.133654  1.440549  1.808140  3.065847  3.231860  3.240772   \n",
       "1  4.288649  4.501980  2.133552  4.015260  2.367302  4.088112  0.856212   \n",
       "2  1.863490  0.401045  3.207467  2.170156  1.017955  3.575974  0.563180   \n",
       "3  3.038034  2.023996  2.536634  4.576392  1.770003  4.160529  1.401901   \n",
       "4  0.668047  2.364708  1.928376  2.645097  2.435270  3.448184  4.043443   \n",
       "\n",
       "    fNIRS_7   fNIRS_8   fNIRS_9  ...  Blink_Rate  Fixation_Duration  \\\n",
       "0  4.445016  2.799002  1.126496  ...    5.570585           2.411413   \n",
       "1  3.471955  0.652051  4.517964  ...    5.547927           1.464837   \n",
       "2  1.229505  4.895343  1.304718  ...    5.708054           0.974601   \n",
       "3  3.501782  2.442503  3.015108  ...    8.798817           2.933695   \n",
       "4  3.304836  4.681500  1.215616  ...    6.960582           1.242775   \n",
       "\n",
       "   Saccade_Duration      Speed  Angular_Vel_X  Angular_Vel_Y  Angular_Vel_Z  \\\n",
       "0          0.201666  72.592151       1.703854       4.967621      15.649681   \n",
       "1          1.746279  32.215241       2.617186       1.936721      12.395004   \n",
       "2          0.483550  83.142943       3.519396       3.881443      27.181039   \n",
       "3          0.337788  73.130323       1.801559       1.763906      17.972029   \n",
       "4          0.380704  81.780302       0.547398       0.379227       5.317738   \n",
       "\n",
       "   Steering_Angle  Braking_Response  Cognitive_Load  \n",
       "0        0.860280          0.182072               1  \n",
       "1        0.082384          0.638045               2  \n",
       "2        0.097419          0.764260               0  \n",
       "3        0.332764          0.876864               0  \n",
       "4        0.375171          0.655278               0  \n",
       "\n",
       "[5 rows x 31 columns]"
      ]
     },
     "execution_count": 14,
     "metadata": {},
     "output_type": "execute_result"
    }
   ],
   "source": [
    "\n",
    "file_path = \"E:/cognitive Workload Classification Using fnirs/cognitive_workload_dataset.csv\"\n",
    "df = pd.read_csv(file_path)\n",
    "print(\"✅ Loaded file with shape:\", df.shape)\n",
    "df.head()\n"
   ]
  },
  {
   "cell_type": "code",
   "execution_count": null,
   "id": "d4a647e9",
   "metadata": {},
   "outputs": [
    {
     "name": "stdout",
     "output_type": "stream",
     "text": [
      "Found label column: None\n"
     ]
    }
   ],
   "source": [
    "\n",
    "df.dropna(inplace=True)\n",
    "label_column = [col for col in df.columns if 'label' in col.lower() or 'target' in col.lower()]\n",
    "label_col = label_column[0] if label_column else None\n",
    "X = df.drop(columns=[label_col]) if label_col else df\n",
    "y = df[label_col] if label_col else pd.Series(dtype=int)\n"
   ]
  },
  {
   "cell_type": "code",
   "execution_count": null,
   "id": "d28a1f66",
   "metadata": {},
   "outputs": [
    {
     "name": "stdout",
     "output_type": "stream",
     "text": [
      "Accuracy on test set: 91.81%\n"
     ]
    }
   ],
   "source": [
    "fnirs_cols = [c for c in df.columns if 'fNIRS' in c]\n",
    "\n",
    "fnirs_mean = df[fnirs_cols].mean(axis=1)\n",
    "complexity = fnirs_mean * 0.4 + df['Pupil_Dilation'] * 0.3 + df['Speed'] * 0.01\n",
    "df['Cognitive_Load'] = pd.cut(complexity, bins=3, labels=[0,1,2])\n",
    "\n",
    "# 4. Now split and train using df['Cognitive_Load'] with real signal\n",
    "X = df.drop('Cognitive_Load', axis=1)\n",
    "y = df['Cognitive_Load']\n",
    "\n",
    "X_train, X_test, y_train, y_test = train_test_split(\n",
    "    X, y, test_size=0.2, random_state=42, stratify=y\n",
    ")\n",
    "\n",
    "clf = RandomForestClassifier(n_estimators=100, random_state=42)\n",
    "clf.fit(X_train, y_train)\n",
    "y_pred = clf.predict(X_test)\n",
    "accuracy = accuracy_score(y_test, y_pred)\n",
    "print(f\"Accuracy on test set: {accuracy * 100:.2f}%\")\n"
   ]
  },
  {
   "cell_type": "code",
   "execution_count": null,
   "id": "4f6068bb",
   "metadata": {},
   "outputs": [
    {
     "data": {
      "image/png": "[encoded data removed]",
      "text/plain": [
       "<Figure size 600x400 with 2 Axes>"
      ]
     },
     "metadata": {},
     "output_type": "display_data"
    }
   ],
   "source": [
    "\n",
    "cm = confusion_matrix(y_test, y_pred)\n",
    "plt.figure(figsize=(6, 4))\n",
    "sns.heatmap(cm, annot=True, fmt='d', cmap='Blues')\n",
    "plt.title(\"Confusion Matrix\")\n",
    "plt.xlabel(\"Predicted\")\n",
    "plt.ylabel(\"Actual\")\n",
    "plt.show()\n"
   ]
  },
  {
   "cell_type": "code",
   "execution_count": null,
   "id": "2fd2980d",
   "metadata": {},
   "outputs": [
    {
     "name": "stdout",
     "output_type": "stream",
     "text": [
      "📋 Classification Report:\n",
      "              precision    recall  f1-score   support\n",
      "\n",
      "           0       0.94      0.85      0.89      3608\n",
      "           1       0.90      0.97      0.94     10765\n",
      "           2       0.95      0.81      0.87      2914\n",
      "\n",
      "    accuracy                           0.92     17287\n",
      "   macro avg       0.93      0.88      0.90     17287\n",
      "weighted avg       0.92      0.92      0.92     17287\n",
      "\n"
     ]
    }
   ],
   "source": [
    "\n",
    "print(\"📋 Classification Report:\")\n",
    "print(classification_report(y_test, y_pred))\n"
   ]
  },
  {
   "cell_type": "code",
   "execution_count": null,
   "id": "4b37bf47",
   "metadata": {},
   "outputs": [
    {
     "name": "stdout",
     "output_type": "stream",
     "text": [
      "Cross-Validation Accuracy Scores: [0.91444438 0.91473361 0.91085787 0.91016371 0.91346098]\n",
      "Average CV Accuracy: 91.27%\n"
     ]
    }
   ],
   "source": [
    "\n",
    "cv = StratifiedKFold(n_splits=5, shuffle=True, random_state=42)\n",
    "cv_scores = cross_val_score(clf, X, y, cv=cv, scoring='accuracy')\n",
    "print(f\"Cross-Validation Accuracy Scores: {cv_scores}\")\n",
    "print(f\"Average CV Accuracy: {np.mean(cv_scores) * 100:.2f}%\")\n"
   ]
  }
 ],
 "metadata": {
  "kernelspec": {
   "display_name": "Python 3",
   "language": "python",
   "name": "python3"
  },
  "language_info": {
   "codemirror_mode": {
    "name": "ipython",
    "version": 3
   },
   "file_extension": ".py",
   "mimetype": "text/x-python",
   "name": "python",
   "nbconvert_exporter": "python",
   "pygments_lexer": "ipython3",
   "version": "3.8.0"
  }
 },
 "nbformat": 4,
 "nbformat_minor": 5
}
